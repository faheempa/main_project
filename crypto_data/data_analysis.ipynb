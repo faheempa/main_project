{
 "cells": [
  {
   "cell_type": "code",
   "execution_count": 125,
   "metadata": {},
   "outputs": [],
   "source": [
    "import pandas as pd\n",
    "\n",
    "train_data = pd.read_csv(\"train_data.csv\")\n",
    "test_data = pd.read_csv(\"test_data.csv\")"
   ]
  },
  {
   "cell_type": "code",
   "execution_count": 126,
   "metadata": {},
   "outputs": [
    {
     "data": {
      "text/html": [
       "<div>\n",
       "<style scoped>\n",
       "    .dataframe tbody tr th:only-of-type {\n",
       "        vertical-align: middle;\n",
       "    }\n",
       "\n",
       "    .dataframe tbody tr th {\n",
       "        vertical-align: top;\n",
       "    }\n",
       "\n",
       "    .dataframe thead th {\n",
       "        text-align: right;\n",
       "    }\n",
       "</style>\n",
       "<table border=\"1\" class=\"dataframe\">\n",
       "  <thead>\n",
       "    <tr style=\"text-align: right;\">\n",
       "      <th></th>\n",
       "      <th>Date</th>\n",
       "      <th>Open</th>\n",
       "      <th>High</th>\n",
       "      <th>Low</th>\n",
       "      <th>Close</th>\n",
       "      <th>Adj Close</th>\n",
       "      <th>Volume</th>\n",
       "    </tr>\n",
       "  </thead>\n",
       "  <tbody>\n",
       "    <tr>\n",
       "      <th>0</th>\n",
       "      <td>2014-09-17</td>\n",
       "      <td>465.864014</td>\n",
       "      <td>468.174011</td>\n",
       "      <td>452.421997</td>\n",
       "      <td>457.334015</td>\n",
       "      <td>457.334015</td>\n",
       "      <td>21056800</td>\n",
       "    </tr>\n",
       "    <tr>\n",
       "      <th>1</th>\n",
       "      <td>2014-09-18</td>\n",
       "      <td>456.859985</td>\n",
       "      <td>456.859985</td>\n",
       "      <td>413.104004</td>\n",
       "      <td>424.440002</td>\n",
       "      <td>424.440002</td>\n",
       "      <td>34483200</td>\n",
       "    </tr>\n",
       "    <tr>\n",
       "      <th>2</th>\n",
       "      <td>2014-09-19</td>\n",
       "      <td>424.102997</td>\n",
       "      <td>427.834991</td>\n",
       "      <td>384.532013</td>\n",
       "      <td>394.795990</td>\n",
       "      <td>394.795990</td>\n",
       "      <td>37919700</td>\n",
       "    </tr>\n",
       "    <tr>\n",
       "      <th>3</th>\n",
       "      <td>2014-09-20</td>\n",
       "      <td>394.673004</td>\n",
       "      <td>423.295990</td>\n",
       "      <td>389.882996</td>\n",
       "      <td>408.903992</td>\n",
       "      <td>408.903992</td>\n",
       "      <td>36863600</td>\n",
       "    </tr>\n",
       "    <tr>\n",
       "      <th>4</th>\n",
       "      <td>2014-09-21</td>\n",
       "      <td>408.084991</td>\n",
       "      <td>412.425995</td>\n",
       "      <td>393.181000</td>\n",
       "      <td>398.821014</td>\n",
       "      <td>398.821014</td>\n",
       "      <td>26580100</td>\n",
       "    </tr>\n",
       "  </tbody>\n",
       "</table>\n",
       "</div>"
      ],
      "text/plain": [
       "         Date        Open        High         Low       Close   Adj Close  \\\n",
       "0  2014-09-17  465.864014  468.174011  452.421997  457.334015  457.334015   \n",
       "1  2014-09-18  456.859985  456.859985  413.104004  424.440002  424.440002   \n",
       "2  2014-09-19  424.102997  427.834991  384.532013  394.795990  394.795990   \n",
       "3  2014-09-20  394.673004  423.295990  389.882996  408.903992  408.903992   \n",
       "4  2014-09-21  408.084991  412.425995  393.181000  398.821014  398.821014   \n",
       "\n",
       "     Volume  \n",
       "0  21056800  \n",
       "1  34483200  \n",
       "2  37919700  \n",
       "3  36863600  \n",
       "4  26580100  "
      ]
     },
     "execution_count": 126,
     "metadata": {},
     "output_type": "execute_result"
    }
   ],
   "source": [
    "train_data.head()\n"
   ]
  },
  {
   "cell_type": "code",
   "execution_count": 127,
   "metadata": {},
   "outputs": [
    {
     "data": {
      "text/html": [
       "<div>\n",
       "<style scoped>\n",
       "    .dataframe tbody tr th:only-of-type {\n",
       "        vertical-align: middle;\n",
       "    }\n",
       "\n",
       "    .dataframe tbody tr th {\n",
       "        vertical-align: top;\n",
       "    }\n",
       "\n",
       "    .dataframe thead th {\n",
       "        text-align: right;\n",
       "    }\n",
       "</style>\n",
       "<table border=\"1\" class=\"dataframe\">\n",
       "  <thead>\n",
       "    <tr style=\"text-align: right;\">\n",
       "      <th></th>\n",
       "      <th>Date</th>\n",
       "      <th>Open</th>\n",
       "      <th>High</th>\n",
       "      <th>Low</th>\n",
       "      <th>Close</th>\n",
       "      <th>Adj Close</th>\n",
       "      <th>Volume</th>\n",
       "    </tr>\n",
       "  </thead>\n",
       "  <tbody>\n",
       "    <tr>\n",
       "      <th>2752</th>\n",
       "      <td>2022-03-31</td>\n",
       "      <td>47062.148438</td>\n",
       "      <td>47512.027344</td>\n",
       "      <td>45390.539063</td>\n",
       "      <td>45538.675781</td>\n",
       "      <td>45538.675781</td>\n",
       "      <td>33327427106</td>\n",
       "    </tr>\n",
       "    <tr>\n",
       "      <th>2753</th>\n",
       "      <td>2022-04-01</td>\n",
       "      <td>45554.164063</td>\n",
       "      <td>46616.242188</td>\n",
       "      <td>44403.140625</td>\n",
       "      <td>46281.644531</td>\n",
       "      <td>46281.644531</td>\n",
       "      <td>38162644287</td>\n",
       "    </tr>\n",
       "    <tr>\n",
       "      <th>2754</th>\n",
       "      <td>2022-04-02</td>\n",
       "      <td>46285.500000</td>\n",
       "      <td>47028.281250</td>\n",
       "      <td>45782.511719</td>\n",
       "      <td>45868.949219</td>\n",
       "      <td>45868.949219</td>\n",
       "      <td>29336594194</td>\n",
       "    </tr>\n",
       "    <tr>\n",
       "      <th>2755</th>\n",
       "      <td>2022-04-03</td>\n",
       "      <td>45859.128906</td>\n",
       "      <td>47313.476563</td>\n",
       "      <td>45634.105469</td>\n",
       "      <td>46453.566406</td>\n",
       "      <td>46453.566406</td>\n",
       "      <td>25414397610</td>\n",
       "    </tr>\n",
       "    <tr>\n",
       "      <th>2756</th>\n",
       "      <td>2022-04-04</td>\n",
       "      <td>46445.273438</td>\n",
       "      <td>46791.089844</td>\n",
       "      <td>45235.816406</td>\n",
       "      <td>46622.675781</td>\n",
       "      <td>46622.675781</td>\n",
       "      <td>32499785455</td>\n",
       "    </tr>\n",
       "  </tbody>\n",
       "</table>\n",
       "</div>"
      ],
      "text/plain": [
       "            Date          Open          High           Low         Close  \\\n",
       "2752  2022-03-31  47062.148438  47512.027344  45390.539063  45538.675781   \n",
       "2753  2022-04-01  45554.164063  46616.242188  44403.140625  46281.644531   \n",
       "2754  2022-04-02  46285.500000  47028.281250  45782.511719  45868.949219   \n",
       "2755  2022-04-03  45859.128906  47313.476563  45634.105469  46453.566406   \n",
       "2756  2022-04-04  46445.273438  46791.089844  45235.816406  46622.675781   \n",
       "\n",
       "         Adj Close       Volume  \n",
       "2752  45538.675781  33327427106  \n",
       "2753  46281.644531  38162644287  \n",
       "2754  45868.949219  29336594194  \n",
       "2755  46453.566406  25414397610  \n",
       "2756  46622.675781  32499785455  "
      ]
     },
     "execution_count": 127,
     "metadata": {},
     "output_type": "execute_result"
    }
   ],
   "source": [
    "train_data.tail()"
   ]
  },
  {
   "cell_type": "code",
   "execution_count": 128,
   "metadata": {},
   "outputs": [
    {
     "data": {
      "text/html": [
       "<div>\n",
       "<style scoped>\n",
       "    .dataframe tbody tr th:only-of-type {\n",
       "        vertical-align: middle;\n",
       "    }\n",
       "\n",
       "    .dataframe tbody tr th {\n",
       "        vertical-align: top;\n",
       "    }\n",
       "\n",
       "    .dataframe thead th {\n",
       "        text-align: right;\n",
       "    }\n",
       "</style>\n",
       "<table border=\"1\" class=\"dataframe\">\n",
       "  <thead>\n",
       "    <tr style=\"text-align: right;\">\n",
       "      <th></th>\n",
       "      <th>Date</th>\n",
       "      <th>Open</th>\n",
       "      <th>High</th>\n",
       "      <th>Low</th>\n",
       "      <th>Close</th>\n",
       "      <th>Adj Close</th>\n",
       "      <th>Volume</th>\n",
       "    </tr>\n",
       "  </thead>\n",
       "  <tbody>\n",
       "    <tr>\n",
       "      <th>0</th>\n",
       "      <td>2022-04-04</td>\n",
       "      <td>46445.273438</td>\n",
       "      <td>46791.089844</td>\n",
       "      <td>45235.816406</td>\n",
       "      <td>46622.675781</td>\n",
       "      <td>46622.675781</td>\n",
       "      <td>32499785455</td>\n",
       "    </tr>\n",
       "    <tr>\n",
       "      <th>1</th>\n",
       "      <td>2022-04-05</td>\n",
       "      <td>46624.507813</td>\n",
       "      <td>47106.140625</td>\n",
       "      <td>45544.808594</td>\n",
       "      <td>45555.992188</td>\n",
       "      <td>45555.992188</td>\n",
       "      <td>29640604055</td>\n",
       "    </tr>\n",
       "    <tr>\n",
       "      <th>2</th>\n",
       "      <td>2022-04-06</td>\n",
       "      <td>45544.355469</td>\n",
       "      <td>45544.355469</td>\n",
       "      <td>43193.953125</td>\n",
       "      <td>43206.738281</td>\n",
       "      <td>43206.738281</td>\n",
       "      <td>39393395788</td>\n",
       "    </tr>\n",
       "    <tr>\n",
       "      <th>3</th>\n",
       "      <td>2022-04-07</td>\n",
       "      <td>43207.500000</td>\n",
       "      <td>43860.699219</td>\n",
       "      <td>42899.906250</td>\n",
       "      <td>43503.847656</td>\n",
       "      <td>43503.847656</td>\n",
       "      <td>26101973106</td>\n",
       "    </tr>\n",
       "    <tr>\n",
       "      <th>4</th>\n",
       "      <td>2022-04-08</td>\n",
       "      <td>43505.136719</td>\n",
       "      <td>43903.019531</td>\n",
       "      <td>42183.289063</td>\n",
       "      <td>42287.664063</td>\n",
       "      <td>42287.664063</td>\n",
       "      <td>27215995394</td>\n",
       "    </tr>\n",
       "  </tbody>\n",
       "</table>\n",
       "</div>"
      ],
      "text/plain": [
       "         Date          Open          High           Low         Close  \\\n",
       "0  2022-04-04  46445.273438  46791.089844  45235.816406  46622.675781   \n",
       "1  2022-04-05  46624.507813  47106.140625  45544.808594  45555.992188   \n",
       "2  2022-04-06  45544.355469  45544.355469  43193.953125  43206.738281   \n",
       "3  2022-04-07  43207.500000  43860.699219  42899.906250  43503.847656   \n",
       "4  2022-04-08  43505.136719  43903.019531  42183.289063  42287.664063   \n",
       "\n",
       "      Adj Close       Volume  \n",
       "0  46622.675781  32499785455  \n",
       "1  45555.992188  29640604055  \n",
       "2  43206.738281  39393395788  \n",
       "3  43503.847656  26101973106  \n",
       "4  42287.664063  27215995394  "
      ]
     },
     "execution_count": 128,
     "metadata": {},
     "output_type": "execute_result"
    }
   ],
   "source": [
    "test_data.head()"
   ]
  },
  {
   "cell_type": "code",
   "execution_count": 129,
   "metadata": {},
   "outputs": [
    {
     "data": {
      "text/html": [
       "<div>\n",
       "<style scoped>\n",
       "    .dataframe tbody tr th:only-of-type {\n",
       "        vertical-align: middle;\n",
       "    }\n",
       "\n",
       "    .dataframe tbody tr th {\n",
       "        vertical-align: top;\n",
       "    }\n",
       "\n",
       "    .dataframe thead th {\n",
       "        text-align: right;\n",
       "    }\n",
       "</style>\n",
       "<table border=\"1\" class=\"dataframe\">\n",
       "  <thead>\n",
       "    <tr style=\"text-align: right;\">\n",
       "      <th></th>\n",
       "      <th>Date</th>\n",
       "      <th>Open</th>\n",
       "      <th>High</th>\n",
       "      <th>Low</th>\n",
       "      <th>Close</th>\n",
       "      <th>Adj Close</th>\n",
       "      <th>Volume</th>\n",
       "    </tr>\n",
       "  </thead>\n",
       "  <tbody>\n",
       "    <tr>\n",
       "      <th>727</th>\n",
       "      <td>2024-03-31</td>\n",
       "      <td>69647.781250</td>\n",
       "      <td>71377.781250</td>\n",
       "      <td>69624.867188</td>\n",
       "      <td>71333.648438</td>\n",
       "      <td>71333.648438</td>\n",
       "      <td>20050941373</td>\n",
       "    </tr>\n",
       "    <tr>\n",
       "      <th>728</th>\n",
       "      <td>2024-04-01</td>\n",
       "      <td>71333.484375</td>\n",
       "      <td>71342.093750</td>\n",
       "      <td>68110.695313</td>\n",
       "      <td>69702.148438</td>\n",
       "      <td>69702.148438</td>\n",
       "      <td>34873527352</td>\n",
       "    </tr>\n",
       "    <tr>\n",
       "      <th>729</th>\n",
       "      <td>2024-04-02</td>\n",
       "      <td>69705.023438</td>\n",
       "      <td>69708.382813</td>\n",
       "      <td>64586.593750</td>\n",
       "      <td>65446.972656</td>\n",
       "      <td>65446.972656</td>\n",
       "      <td>50705240709</td>\n",
       "    </tr>\n",
       "    <tr>\n",
       "      <th>730</th>\n",
       "      <td>2024-04-03</td>\n",
       "      <td>65446.671875</td>\n",
       "      <td>66914.320313</td>\n",
       "      <td>64559.898438</td>\n",
       "      <td>65980.812500</td>\n",
       "      <td>65980.812500</td>\n",
       "      <td>34488018367</td>\n",
       "    </tr>\n",
       "    <tr>\n",
       "      <th>731</th>\n",
       "      <td>2024-04-04</td>\n",
       "      <td>65990.351563</td>\n",
       "      <td>66334.640625</td>\n",
       "      <td>65149.296875</td>\n",
       "      <td>66125.828125</td>\n",
       "      <td>66125.828125</td>\n",
       "      <td>31067602944</td>\n",
       "    </tr>\n",
       "  </tbody>\n",
       "</table>\n",
       "</div>"
      ],
      "text/plain": [
       "           Date          Open          High           Low         Close  \\\n",
       "727  2024-03-31  69647.781250  71377.781250  69624.867188  71333.648438   \n",
       "728  2024-04-01  71333.484375  71342.093750  68110.695313  69702.148438   \n",
       "729  2024-04-02  69705.023438  69708.382813  64586.593750  65446.972656   \n",
       "730  2024-04-03  65446.671875  66914.320313  64559.898438  65980.812500   \n",
       "731  2024-04-04  65990.351563  66334.640625  65149.296875  66125.828125   \n",
       "\n",
       "        Adj Close       Volume  \n",
       "727  71333.648438  20050941373  \n",
       "728  69702.148438  34873527352  \n",
       "729  65446.972656  50705240709  \n",
       "730  65980.812500  34488018367  \n",
       "731  66125.828125  31067602944  "
      ]
     },
     "execution_count": 129,
     "metadata": {},
     "output_type": "execute_result"
    }
   ],
   "source": [
    "test_data.tail()"
   ]
  },
  {
   "cell_type": "code",
   "execution_count": 130,
   "metadata": {},
   "outputs": [],
   "source": [
    "del train_data[\"Adj Close\"]\n",
    "del test_data[\"Adj Close\"]"
   ]
  },
  {
   "cell_type": "code",
   "execution_count": 131,
   "metadata": {},
   "outputs": [
    {
     "name": "stdout",
     "output_type": "stream",
     "text": [
      "(2757, 6)\n",
      "(732, 6)\n"
     ]
    }
   ],
   "source": [
    "print(train_data.shape)\n",
    "print(test_data.shape)"
   ]
  },
  {
   "cell_type": "code",
   "execution_count": 132,
   "metadata": {},
   "outputs": [
    {
     "name": "stdout",
     "output_type": "stream",
     "text": [
      "<class 'pandas.core.frame.DataFrame'>\n",
      "RangeIndex: 2757 entries, 0 to 2756\n",
      "Data columns (total 6 columns):\n",
      " #   Column  Non-Null Count  Dtype  \n",
      "---  ------  --------------  -----  \n",
      " 0   Date    2757 non-null   object \n",
      " 1   Open    2757 non-null   float64\n",
      " 2   High    2757 non-null   float64\n",
      " 3   Low     2757 non-null   float64\n",
      " 4   Close   2757 non-null   float64\n",
      " 5   Volume  2757 non-null   int64  \n",
      "dtypes: float64(4), int64(1), object(1)\n",
      "memory usage: 129.4+ KB\n"
     ]
    }
   ],
   "source": [
    "train_data.info()"
   ]
  },
  {
   "cell_type": "code",
   "execution_count": 133,
   "metadata": {},
   "outputs": [
    {
     "data": {
      "text/html": [
       "<div>\n",
       "<style scoped>\n",
       "    .dataframe tbody tr th:only-of-type {\n",
       "        vertical-align: middle;\n",
       "    }\n",
       "\n",
       "    .dataframe tbody tr th {\n",
       "        vertical-align: top;\n",
       "    }\n",
       "\n",
       "    .dataframe thead th {\n",
       "        text-align: right;\n",
       "    }\n",
       "</style>\n",
       "<table border=\"1\" class=\"dataframe\">\n",
       "  <thead>\n",
       "    <tr style=\"text-align: right;\">\n",
       "      <th></th>\n",
       "      <th>Open</th>\n",
       "      <th>High</th>\n",
       "      <th>Low</th>\n",
       "      <th>Close</th>\n",
       "      <th>Volume</th>\n",
       "    </tr>\n",
       "  </thead>\n",
       "  <tbody>\n",
       "    <tr>\n",
       "      <th>count</th>\n",
       "      <td>2757.000000</td>\n",
       "      <td>2757.000000</td>\n",
       "      <td>2757.000000</td>\n",
       "      <td>2757.000000</td>\n",
       "      <td>2.757000e+03</td>\n",
       "    </tr>\n",
       "    <tr>\n",
       "      <th>mean</th>\n",
       "      <td>11793.649414</td>\n",
       "      <td>12108.273090</td>\n",
       "      <td>11449.762658</td>\n",
       "      <td>11808.705328</td>\n",
       "      <td>1.490242e+10</td>\n",
       "    </tr>\n",
       "    <tr>\n",
       "      <th>std</th>\n",
       "      <td>16425.489014</td>\n",
       "      <td>16861.668068</td>\n",
       "      <td>15930.491698</td>\n",
       "      <td>16433.500367</td>\n",
       "      <td>1.993605e+10</td>\n",
       "    </tr>\n",
       "    <tr>\n",
       "      <th>min</th>\n",
       "      <td>176.897003</td>\n",
       "      <td>211.731003</td>\n",
       "      <td>171.509995</td>\n",
       "      <td>178.102997</td>\n",
       "      <td>5.914570e+06</td>\n",
       "    </tr>\n",
       "    <tr>\n",
       "      <th>25%</th>\n",
       "      <td>609.870972</td>\n",
       "      <td>612.567993</td>\n",
       "      <td>607.039001</td>\n",
       "      <td>609.874023</td>\n",
       "      <td>8.177350e+07</td>\n",
       "    </tr>\n",
       "    <tr>\n",
       "      <th>50%</th>\n",
       "      <td>6386.129883</td>\n",
       "      <td>6506.009766</td>\n",
       "      <td>6298.240234</td>\n",
       "      <td>6388.439941</td>\n",
       "      <td>5.262869e+09</td>\n",
       "    </tr>\n",
       "    <tr>\n",
       "      <th>75%</th>\n",
       "      <td>10796.930664</td>\n",
       "      <td>11052.299805</td>\n",
       "      <td>10503.504883</td>\n",
       "      <td>10796.951172</td>\n",
       "      <td>2.515405e+10</td>\n",
       "    </tr>\n",
       "    <tr>\n",
       "      <th>max</th>\n",
       "      <td>67549.734375</td>\n",
       "      <td>68789.625000</td>\n",
       "      <td>66382.062500</td>\n",
       "      <td>67566.828125</td>\n",
       "      <td>3.509679e+11</td>\n",
       "    </tr>\n",
       "  </tbody>\n",
       "</table>\n",
       "</div>"
      ],
      "text/plain": [
       "               Open          High           Low         Close        Volume\n",
       "count   2757.000000   2757.000000   2757.000000   2757.000000  2.757000e+03\n",
       "mean   11793.649414  12108.273090  11449.762658  11808.705328  1.490242e+10\n",
       "std    16425.489014  16861.668068  15930.491698  16433.500367  1.993605e+10\n",
       "min      176.897003    211.731003    171.509995    178.102997  5.914570e+06\n",
       "25%      609.870972    612.567993    607.039001    609.874023  8.177350e+07\n",
       "50%     6386.129883   6506.009766   6298.240234   6388.439941  5.262869e+09\n",
       "75%    10796.930664  11052.299805  10503.504883  10796.951172  2.515405e+10\n",
       "max    67549.734375  68789.625000  66382.062500  67566.828125  3.509679e+11"
      ]
     },
     "execution_count": 133,
     "metadata": {},
     "output_type": "execute_result"
    }
   ],
   "source": [
    "train_data.describe()"
   ]
  },
  {
   "cell_type": "code",
   "execution_count": 134,
   "metadata": {},
   "outputs": [
    {
     "name": "stdout",
     "output_type": "stream",
     "text": [
      "Date      0\n",
      "Open      0\n",
      "High      0\n",
      "Low       0\n",
      "Close     0\n",
      "Volume    0\n",
      "dtype: int64\n",
      "Date      False\n",
      "Open      False\n",
      "High      False\n",
      "Low       False\n",
      "Close     False\n",
      "Volume    False\n",
      "dtype: bool\n"
     ]
    }
   ],
   "source": [
    "# check for null values\n",
    "print(train_data.isnull().sum())\n",
    "\n",
    "# check for NA values\n",
    "print(train_data.isna().any())"
   ]
  },
  {
   "cell_type": "code",
   "execution_count": 135,
   "metadata": {},
   "outputs": [
    {
     "name": "stdout",
     "output_type": "stream",
     "text": [
      "starting date of train data:  2014-09-17\n",
      "ending date of train data:  2022-04-04\n",
      "starting date of test data:  2022-04-04\n",
      "ending date of test data:  2024-04-04\n",
      "\n",
      "no of days in train data:  2757\n",
      "no of days in test data:  732\n"
     ]
    }
   ],
   "source": [
    "# starting & ending date\n",
    "print(\"starting date of train data: \", train_data.iloc[0, 0])  \n",
    "print(\"ending date of train data: \", train_data.iloc[-1, 0])\n",
    "\n",
    "print(\"starting date of test data: \", test_data.iloc[0, 0])\n",
    "print(\"ending date of test data: \", test_data.iloc[-1, 0])\n",
    "print()\n",
    "\n",
    "# print no days\n",
    "print(\"no of days in train data: \", train_data.shape[0])\n",
    "print(\"no of days in test data: \", test_data.shape[0])\n"
   ]
  },
  {
   "cell_type": "code",
   "execution_count": 136,
   "metadata": {},
   "outputs": [
    {
     "data": {
      "text/plain": [
       "Index(['Date', 'Open', 'High', 'Low', 'Close', 'Volume'], dtype='object')"
      ]
     },
     "execution_count": 136,
     "metadata": {},
     "output_type": "execute_result"
    }
   ],
   "source": [
    "train_data.columns"
   ]
  },
  {
   "cell_type": "code",
   "execution_count": 137,
   "metadata": {},
   "outputs": [
    {
     "name": "stdout",
     "output_type": "stream",
     "text": [
      "first date:  2014-09-17 00:00:00\n",
      "year:  2014\n",
      "month:  9\n",
      "day:  17\n",
      "day of week:  2\n",
      "day of year:  260\n",
      "week of year:  38\n",
      "quarter:  3\n",
      "name of day:  Wednesday\n"
     ]
    }
   ],
   "source": [
    "# convert date to datetime\n",
    "train_data[\"Date\"] = pd.to_datetime(train_data[\"Date\"], format=\"%Y-%m-%d\")\n",
    "first_date = train_data.iloc[0, 0]\n",
    "print(\"first date: \", first_date)\n",
    "print(\"year: \", first_date.year)\n",
    "print(\"month: \", first_date.month)\n",
    "print(\"day: \", first_date.day)\n",
    "print(\"day of week: \", first_date.dayofweek)\n",
    "print(\"day of year: \", first_date.dayofyear)\n",
    "print(\"week of year: \", first_date.weekofyear)\n",
    "print(\"quarter: \", first_date.quarter)\n",
    "print(\"name of day: \", first_date.day_name())\n",
    "\n",
    "# same for test data\n",
    "test_data[\"Date\"] = pd.to_datetime(test_data[\"Date\"], format=\"%Y-%m-%d\")"
   ]
  },
  {
   "cell_type": "code",
   "execution_count": 138,
   "metadata": {},
   "outputs": [
    {
     "data": {
      "text/html": [
       "<div>\n",
       "<style scoped>\n",
       "    .dataframe tbody tr th:only-of-type {\n",
       "        vertical-align: middle;\n",
       "    }\n",
       "\n",
       "    .dataframe tbody tr th {\n",
       "        vertical-align: top;\n",
       "    }\n",
       "\n",
       "    .dataframe thead th {\n",
       "        text-align: right;\n",
       "    }\n",
       "</style>\n",
       "<table border=\"1\" class=\"dataframe\">\n",
       "  <thead>\n",
       "    <tr style=\"text-align: right;\">\n",
       "      <th></th>\n",
       "      <th>Date</th>\n",
       "      <th>Open</th>\n",
       "      <th>High</th>\n",
       "      <th>Low</th>\n",
       "      <th>Close</th>\n",
       "      <th>Volume</th>\n",
       "    </tr>\n",
       "  </thead>\n",
       "  <tbody>\n",
       "    <tr>\n",
       "      <th>1932</th>\n",
       "      <td>2020-01-01</td>\n",
       "      <td>7194.892090</td>\n",
       "      <td>7254.330566</td>\n",
       "      <td>7174.944336</td>\n",
       "      <td>7200.174316</td>\n",
       "      <td>18565664997</td>\n",
       "    </tr>\n",
       "    <tr>\n",
       "      <th>1933</th>\n",
       "      <td>2020-01-02</td>\n",
       "      <td>7202.551270</td>\n",
       "      <td>7212.155273</td>\n",
       "      <td>6935.270020</td>\n",
       "      <td>6985.470215</td>\n",
       "      <td>20802083465</td>\n",
       "    </tr>\n",
       "    <tr>\n",
       "      <th>1934</th>\n",
       "      <td>2020-01-03</td>\n",
       "      <td>6984.428711</td>\n",
       "      <td>7413.715332</td>\n",
       "      <td>6914.996094</td>\n",
       "      <td>7344.884277</td>\n",
       "      <td>28111481032</td>\n",
       "    </tr>\n",
       "    <tr>\n",
       "      <th>1935</th>\n",
       "      <td>2020-01-04</td>\n",
       "      <td>7345.375488</td>\n",
       "      <td>7427.385742</td>\n",
       "      <td>7309.514160</td>\n",
       "      <td>7410.656738</td>\n",
       "      <td>18444271275</td>\n",
       "    </tr>\n",
       "    <tr>\n",
       "      <th>1936</th>\n",
       "      <td>2020-01-05</td>\n",
       "      <td>7410.451660</td>\n",
       "      <td>7544.497070</td>\n",
       "      <td>7400.535645</td>\n",
       "      <td>7411.317383</td>\n",
       "      <td>19725074095</td>\n",
       "    </tr>\n",
       "    <tr>\n",
       "      <th>...</th>\n",
       "      <td>...</td>\n",
       "      <td>...</td>\n",
       "      <td>...</td>\n",
       "      <td>...</td>\n",
       "      <td>...</td>\n",
       "      <td>...</td>\n",
       "    </tr>\n",
       "    <tr>\n",
       "      <th>2293</th>\n",
       "      <td>2020-12-27</td>\n",
       "      <td>26439.373047</td>\n",
       "      <td>28288.839844</td>\n",
       "      <td>25922.769531</td>\n",
       "      <td>26272.294922</td>\n",
       "      <td>66479895605</td>\n",
       "    </tr>\n",
       "    <tr>\n",
       "      <th>2294</th>\n",
       "      <td>2020-12-28</td>\n",
       "      <td>26280.822266</td>\n",
       "      <td>27389.111328</td>\n",
       "      <td>26207.640625</td>\n",
       "      <td>27084.808594</td>\n",
       "      <td>49056742893</td>\n",
       "    </tr>\n",
       "    <tr>\n",
       "      <th>2295</th>\n",
       "      <td>2020-12-29</td>\n",
       "      <td>27081.810547</td>\n",
       "      <td>27370.720703</td>\n",
       "      <td>25987.298828</td>\n",
       "      <td>27362.437500</td>\n",
       "      <td>45265946774</td>\n",
       "    </tr>\n",
       "    <tr>\n",
       "      <th>2296</th>\n",
       "      <td>2020-12-30</td>\n",
       "      <td>27360.089844</td>\n",
       "      <td>28937.740234</td>\n",
       "      <td>27360.089844</td>\n",
       "      <td>28840.953125</td>\n",
       "      <td>51287442704</td>\n",
       "    </tr>\n",
       "    <tr>\n",
       "      <th>2297</th>\n",
       "      <td>2020-12-31</td>\n",
       "      <td>28841.574219</td>\n",
       "      <td>29244.876953</td>\n",
       "      <td>28201.992188</td>\n",
       "      <td>29001.720703</td>\n",
       "      <td>46754964848</td>\n",
       "    </tr>\n",
       "  </tbody>\n",
       "</table>\n",
       "<p>366 rows × 6 columns</p>\n",
       "</div>"
      ],
      "text/plain": [
       "           Date          Open          High           Low         Close  \\\n",
       "1932 2020-01-01   7194.892090   7254.330566   7174.944336   7200.174316   \n",
       "1933 2020-01-02   7202.551270   7212.155273   6935.270020   6985.470215   \n",
       "1934 2020-01-03   6984.428711   7413.715332   6914.996094   7344.884277   \n",
       "1935 2020-01-04   7345.375488   7427.385742   7309.514160   7410.656738   \n",
       "1936 2020-01-05   7410.451660   7544.497070   7400.535645   7411.317383   \n",
       "...         ...           ...           ...           ...           ...   \n",
       "2293 2020-12-27  26439.373047  28288.839844  25922.769531  26272.294922   \n",
       "2294 2020-12-28  26280.822266  27389.111328  26207.640625  27084.808594   \n",
       "2295 2020-12-29  27081.810547  27370.720703  25987.298828  27362.437500   \n",
       "2296 2020-12-30  27360.089844  28937.740234  27360.089844  28840.953125   \n",
       "2297 2020-12-31  28841.574219  29244.876953  28201.992188  29001.720703   \n",
       "\n",
       "           Volume  \n",
       "1932  18565664997  \n",
       "1933  20802083465  \n",
       "1934  28111481032  \n",
       "1935  18444271275  \n",
       "1936  19725074095  \n",
       "...           ...  \n",
       "2293  66479895605  \n",
       "2294  49056742893  \n",
       "2295  45265946774  \n",
       "2296  51287442704  \n",
       "2297  46754964848  \n",
       "\n",
       "[366 rows x 6 columns]"
      ]
     },
     "execution_count": 138,
     "metadata": {},
     "output_type": "execute_result"
    }
   ],
   "source": [
    "# analysis of year 2020\n",
    "y_2020 = train_data.loc[(train_data[\"Date\"] >= \"2020-01-01\") & (train_data[\"Date\"] <= \"2020-12-31\")]\n",
    "y_2020\n"
   ]
  },
  {
   "cell_type": "code",
   "execution_count": 139,
   "metadata": {},
   "outputs": [
    {
     "data": {
      "text/html": [
       "<div>\n",
       "<style scoped>\n",
       "    .dataframe tbody tr th:only-of-type {\n",
       "        vertical-align: middle;\n",
       "    }\n",
       "\n",
       "    .dataframe tbody tr th {\n",
       "        vertical-align: top;\n",
       "    }\n",
       "\n",
       "    .dataframe thead th {\n",
       "        text-align: right;\n",
       "    }\n",
       "</style>\n",
       "<table border=\"1\" class=\"dataframe\">\n",
       "  <thead>\n",
       "    <tr style=\"text-align: right;\">\n",
       "      <th></th>\n",
       "      <th>Open</th>\n",
       "      <th>Close</th>\n",
       "      <th>Low</th>\n",
       "      <th>High</th>\n",
       "      <th>Volume</th>\n",
       "    </tr>\n",
       "  </thead>\n",
       "  <tbody>\n",
       "    <tr>\n",
       "      <th>Jan</th>\n",
       "      <td>8318.949597</td>\n",
       "      <td>8389.270476</td>\n",
       "      <td>6914.996094</td>\n",
       "      <td>9553.125977</td>\n",
       "      <td>852872174496</td>\n",
       "    </tr>\n",
       "    <tr>\n",
       "      <th>Feb</th>\n",
       "      <td>9656.215113</td>\n",
       "      <td>9630.722185</td>\n",
       "      <td>8492.932617</td>\n",
       "      <td>10457.626953</td>\n",
       "      <td>1163376492768</td>\n",
       "    </tr>\n",
       "    <tr>\n",
       "      <th>Mar</th>\n",
       "      <td>6943.507009</td>\n",
       "      <td>6871.016113</td>\n",
       "      <td>4106.980957</td>\n",
       "      <td>9167.695313</td>\n",
       "      <td>1290442059648</td>\n",
       "    </tr>\n",
       "    <tr>\n",
       "      <th>Apr</th>\n",
       "      <td>7150.611328</td>\n",
       "      <td>7224.477328</td>\n",
       "      <td>6202.373535</td>\n",
       "      <td>9440.650391</td>\n",
       "      <td>1156127164831</td>\n",
       "    </tr>\n",
       "    <tr>\n",
       "      <th>May</th>\n",
       "      <td>9237.761530</td>\n",
       "      <td>9263.151745</td>\n",
       "      <td>8374.323242</td>\n",
       "      <td>9996.743164</td>\n",
       "      <td>1286368141507</td>\n",
       "    </tr>\n",
       "    <tr>\n",
       "      <th>Jun</th>\n",
       "      <td>9499.797005</td>\n",
       "      <td>9489.227214</td>\n",
       "      <td>8975.525391</td>\n",
       "      <td>10199.565430</td>\n",
       "      <td>650913318680</td>\n",
       "    </tr>\n",
       "    <tr>\n",
       "      <th>Jul</th>\n",
       "      <td>9519.383852</td>\n",
       "      <td>9589.899729</td>\n",
       "      <td>8977.015625</td>\n",
       "      <td>11415.864258</td>\n",
       "      <td>545813339109</td>\n",
       "    </tr>\n",
       "    <tr>\n",
       "      <th>Aug</th>\n",
       "      <td>11639.097215</td>\n",
       "      <td>11652.394185</td>\n",
       "      <td>11012.415039</td>\n",
       "      <td>12359.056641</td>\n",
       "      <td>708377092130</td>\n",
       "    </tr>\n",
       "    <tr>\n",
       "      <th>Sep</th>\n",
       "      <td>10689.700163</td>\n",
       "      <td>10660.276856</td>\n",
       "      <td>9916.493164</td>\n",
       "      <td>12067.081055</td>\n",
       "      <td>1075949438431</td>\n",
       "    </tr>\n",
       "    <tr>\n",
       "      <th>Oct</th>\n",
       "      <td>11791.307491</td>\n",
       "      <td>11886.978201</td>\n",
       "      <td>10416.689453</td>\n",
       "      <td>14028.213867</td>\n",
       "      <td>1050874546086</td>\n",
       "    </tr>\n",
       "    <tr>\n",
       "      <th>Nov</th>\n",
       "      <td>16450.121647</td>\n",
       "      <td>16645.757422</td>\n",
       "      <td>13243.160156</td>\n",
       "      <td>19749.263672</td>\n",
       "      <td>1093144913227</td>\n",
       "    </tr>\n",
       "    <tr>\n",
       "      <th>Dec</th>\n",
       "      <td>21680.540827</td>\n",
       "      <td>21983.137097</td>\n",
       "      <td>17619.533203</td>\n",
       "      <td>29244.876953</td>\n",
       "      <td>1212259707946</td>\n",
       "    </tr>\n",
       "  </tbody>\n",
       "</table>\n",
       "</div>"
      ],
      "text/plain": [
       "             Open         Close           Low          High         Volume\n",
       "Jan   8318.949597   8389.270476   6914.996094   9553.125977   852872174496\n",
       "Feb   9656.215113   9630.722185   8492.932617  10457.626953  1163376492768\n",
       "Mar   6943.507009   6871.016113   4106.980957   9167.695313  1290442059648\n",
       "Apr   7150.611328   7224.477328   6202.373535   9440.650391  1156127164831\n",
       "May   9237.761530   9263.151745   8374.323242   9996.743164  1286368141507\n",
       "Jun   9499.797005   9489.227214   8975.525391  10199.565430   650913318680\n",
       "Jul   9519.383852   9589.899729   8977.015625  11415.864258   545813339109\n",
       "Aug  11639.097215  11652.394185  11012.415039  12359.056641   708377092130\n",
       "Sep  10689.700163  10660.276856   9916.493164  12067.081055  1075949438431\n",
       "Oct  11791.307491  11886.978201  10416.689453  14028.213867  1050874546086\n",
       "Nov  16450.121647  16645.757422  13243.160156  19749.263672  1093144913227\n",
       "Dec  21680.540827  21983.137097  17619.533203  29244.876953  1212259707946"
      ]
     },
     "execution_count": 139,
     "metadata": {},
     "output_type": "execute_result"
    }
   ],
   "source": [
    "\n",
    "monthvise = y_2020.groupby(y_2020[\"Date\"].dt.month)[[\"Open\", \"Close\"]].mean()\n",
    "monthvise[\"Low\"] = y_2020.groupby(y_2020[\"Date\"].dt.month)[[\"Low\"]].min()\n",
    "monthvise[\"High\"] = y_2020.groupby(y_2020[\"Date\"].dt.month)[[\"High\"]].max()\n",
    "monthvise[\"Volume\"] = y_2020.groupby(y_2020[\"Date\"].dt.month)[[\"Volume\"]].sum()\n",
    "month_names = [\"Jan\", \"Feb\", \"Mar\", \"Apr\", \"May\", \"Jun\", \"Jul\", \"Aug\", \"Sep\", \"Oct\", \"Nov\", \"Dec\"]\n",
    "monthvise.index = month_names\n",
    "monthvise"
   ]
  },
  {
   "cell_type": "code",
   "execution_count": 140,
   "metadata": {},
   "outputs": [
    {
     "data": {
      "image/png": "[encoded data removed]",
      "text/plain": [
       "<Figure size 1000x500 with 1 Axes>"
      ]
     },
     "metadata": {},
     "output_type": "display_data"
    }
   ],
   "source": [
    "import matplotlib.pyplot as plt\n",
    "\n",
    "# create a numeric index for x-axis\n",
    "x = range(len(monthvise.index))\n",
    "\n",
    "width = 0.15  # this can be adjusted\n",
    "plt.figure(figsize=(10, 5))\n",
    "plt.bar([i-width*3 for i in x], monthvise[\"Open\"], color=\"red\", label=\"Average Open\", width=width)\n",
    "plt.bar([i-width*2 for i in x], monthvise[\"Close\"], color=\"green\", label=\"Average Close\", width=width)\n",
    "plt.bar([i-width*1 for i in x], monthvise[\"Low\"], color=\"blue\", label=\"Low\", width=width)\n",
    "plt.bar([i-width*0 for i in x], monthvise[\"High\"], color=\"black\", label=\"High\", width=width)\n",
    "plt.xlabel(\"Months\")\n",
    "plt.ylabel(\"Average Price\")\n",
    "plt.title(\"Average bitcoin price in 2020\")\n",
    "plt.xticks(x, monthvise.index)  # set the x-ticks to be the months\n",
    "plt.legend()\n",
    "plt.show()"
   ]
  },
  {
   "cell_type": "code",
   "execution_count": 141,
   "metadata": {},
   "outputs": [
    {
     "data": {
      "image/png": "[encoded data removed]",
      "text/plain": [
       "<Figure size 1000x500 with 1 Axes>"
      ]
     },
     "metadata": {},
     "output_type": "display_data"
    }
   ],
   "source": [
    "# plot from monthvise\n",
    "plt.figure(figsize=(10, 5))\n",
    "plt.plot(monthvise[\"Low\"], label=\"Low\", marker=\"o\")\n",
    "plt.plot(monthvise[\"High\"], label=\"High\", marker=\"o\")\n",
    "plt.xlabel(\"Months\")\n",
    "plt.ylabel(\"Average Price\")\n",
    "plt.title(\"Bitcoin price in 2020 grouped by month\")\n",
    "plt.xticks(x, monthvise.index)  # set the x-ticks to be the months\n",
    "plt.legend()\n",
    "plt.show()"
   ]
  },
  {
   "cell_type": "code",
   "execution_count": 142,
   "metadata": {},
   "outputs": [
    {
     "data": {
      "image/png": "[encoded data removed]",
      "text/plain": [
       "<Figure size 1000x500 with 1 Axes>"
      ]
     },
     "metadata": {},
     "output_type": "display_data"
    }
   ],
   "source": [
    "# plot \n",
    "plt.figure(figsize=(10, 5))\n",
    "plt.plot(y_2020[\"Date\"], y_2020[\"Low\"], label=\"Low\")\n",
    "plt.plot(y_2020[\"Date\"], y_2020[\"High\"], label=\"High\")\n",
    "plt.xlabel(\"Date\")\n",
    "plt.ylabel(\"Price\")\n",
    "plt.title(\"Bitcoin price in 2020\")\n",
    "plt.legend()\n",
    "plt.show()"
   ]
  },
  {
   "cell_type": "code",
   "execution_count": 143,
   "metadata": {},
   "outputs": [
    {
     "data": {
      "image/png": "[encoded data removed]",
      "text/plain": [
       "<Figure size 1000x300 with 1 Axes>"
      ]
     },
     "metadata": {},
     "output_type": "display_data"
    }
   ],
   "source": [
    "# plot voume\n",
    "plt.figure(figsize=(10, 3))\n",
    "plt.bar(x, monthvise[\"Volume\"], color=\"blue\", label=\"Volume\")\n",
    "plt.xlabel(\"Months\")\n",
    "plt.ylabel(\"Volume\")\n",
    "plt.title(\"Volume of bitcoin in 2020\")\n",
    "plt.xticks(x, monthvise.index)  # set the x-ticks to be the months\n",
    "plt.legend()\n",
    "plt.show()"
   ]
  },
  {
   "cell_type": "code",
   "execution_count": 144,
   "metadata": {},
   "outputs": [],
   "source": [
    "del train_data[\"Volume\"]\n",
    "del test_data[\"Volume\"]"
   ]
  },
  {
   "cell_type": "code",
   "execution_count": 145,
   "metadata": {},
   "outputs": [
    {
     "data": {
      "image/png": "[encoded data removed]",
      "text/plain": [
       "<Figure size 1500x500 with 1 Axes>"
      ]
     },
     "metadata": {},
     "output_type": "display_data"
    }
   ],
   "source": [
    "# plotting the whole data\n",
    "data = pd.concat([train_data, test_data], axis=0)\n",
    "plt.figure(figsize=(15, 5))\n",
    "plt.plot(data[\"Date\"], data[\"Close\"], label=\"Close price\")\n",
    "plt.xlabel(\"Date\")\n",
    "plt.ylabel(\"Price\")\n",
    "plt.title(\"Bitcoin price\")\n",
    "plt.legend()\n",
    "plt.show()"
   ]
  },
  {
   "cell_type": "code",
   "execution_count": 146,
   "metadata": {},
   "outputs": [],
   "source": [
    "import numpy as np\n",
    "\n",
    "# create a function to make data for LSTM\n",
    "# one data point will have n_steps data points for open, close, high, low\n",
    "# size of one datapoint= n_steps*4\n",
    "# n_steps=7 by default\n",
    "# use numpy arrays for faster computation\n",
    "\n",
    "def make_data_for_LSTM(df, n_steps=10):\n",
    "    X, y = [], []\n",
    "    for i in range(1, len(df)-n_steps):\n",
    "        # get x values, which will be the difference between the current day and the previous day\n",
    "        X.append(df.iloc[i:i+n_steps, 1:].values - df.iloc[i-1:i+n_steps-1, 1:].values)\n",
    "        # y will be the difference between the close price of the next day and the current day\n",
    "        t = df.iloc[i+n_steps, 4]-df.iloc[i+n_steps-1, 4]\n",
    "        # if the value is greater than 10, then the value will be 0 - buy\n",
    "        # if the value is less than 10, then the value will be 1 - sell\n",
    "        # else the value will be 2 - hold\n",
    "        t = 0 if t > 10 else 1 if t < -10 else 2\n",
    "        y.append(t)\n",
    "    x, y = np.array(X), np.array(y)\n",
    "    y = y.reshape(-1, 1)\n",
    "    return x, y"
   ]
  },
  {
   "cell_type": "code",
   "execution_count": 147,
   "metadata": {},
   "outputs": [
    {
     "data": {
      "text/plain": [
       "((2746, 10, 4), (2746, 1), dtype('float64'), dtype('int32'))"
      ]
     },
     "execution_count": 147,
     "metadata": {},
     "output_type": "execute_result"
    }
   ],
   "source": [
    "# make train data\n",
    "X_train, Y_train = make_data_for_LSTM(train_data)\n",
    "X_train.shape, Y_train.shape, X_train.dtype, Y_train.dtype"
   ]
  },
  {
   "cell_type": "code",
   "execution_count": 148,
   "metadata": {},
   "outputs": [
    {
     "name": "stdout",
     "output_type": "stream",
     "text": [
      "one sample data point \n",
      "\n",
      "['Date' 'Open' 'High' 'Low' 'Close']\n",
      "   0     -9.0  -11.3  -39.3   -32.9\n",
      "   1    -32.8  -29.0  -28.6   -29.6\n",
      "   2    -29.4   -4.5    5.4    14.1\n",
      "   3     13.4  -10.9    3.3   -10.1\n",
      "   4     -9.0   -5.5    3.9     3.3\n",
      "   5      3.0   34.6   -0.9    33.6\n",
      "   6     33.7   -5.4   24.9   -12.6\n",
      "   7    -12.6  -12.6  -11.7   -11.6\n",
      "   8    -11.7   -8.6   -9.5    -7.1\n",
      "   9     -7.9   -8.3   -2.6    -4.9\n",
      "\n",
      "target -> next close price:  [1]\n"
     ]
    }
   ],
   "source": [
    "sample_x, sample_y = X_train[0], Y_train[0]\n",
    "print(\"one sample data point \\n\")\n",
    "print(train_data.columns.values)\n",
    "for t, x in enumerate(sample_x):\n",
    "    print(f\"   {t}    {x[0]:5.1f}  {x[1]:5.1f}  {x[2]:5.1f}   {x[3]:5.1f}\")\n",
    "print(\"\\ntarget -> next close price: \", sample_y)"
   ]
  },
  {
   "cell_type": "code",
   "execution_count": 149,
   "metadata": {},
   "outputs": [
    {
     "data": {
      "text/plain": [
       "((721, 10, 4), (721, 1), dtype('float64'), dtype('int32'))"
      ]
     },
     "execution_count": 149,
     "metadata": {},
     "output_type": "execute_result"
    }
   ],
   "source": [
    "# for test data\n",
    "X_test, Y_test = make_data_for_LSTM(test_data)\n",
    "X_test.shape, Y_test.shape, X_test.dtype, Y_test.dtype"
   ]
  },
  {
   "cell_type": "code",
   "execution_count": 150,
   "metadata": {},
   "outputs": [
    {
     "data": {
      "text/plain": [
       "(torch.Size([721, 10, 4]),\n",
       " torch.Size([721, 1]),\n",
       " torch.Size([2746, 10, 4]),\n",
       " torch.Size([2746, 1]))"
      ]
     },
     "execution_count": 150,
     "metadata": {},
     "output_type": "execute_result"
    }
   ],
   "source": [
    "# convert to torch tensors\n",
    "import torch\n",
    "\n",
    "X_test = torch.tensor(X_test, dtype=torch.float32)\n",
    "Y_test = torch.tensor(Y_test, dtype=torch.long)\n",
    "X_train = torch.tensor(X_train, dtype=torch.float32)\n",
    "Y_train = torch.tensor(Y_train, dtype=torch.long)\n",
    "\n",
    "X_test.shape, Y_test.shape, X_train.shape, Y_train.shape\n"
   ]
  },
  {
   "cell_type": "code",
   "execution_count": 151,
   "metadata": {},
   "outputs": [
    {
     "name": "stdout",
     "output_type": "stream",
     "text": [
      "number of batches in train_loader:  21\n",
      "number of data points in one batch:  128\n",
      "shape of one data point:  torch.Size([10, 4])\n",
      "shape of one target:  torch.Size([1])\n",
      "total number of data points in train_loader:  2746\n",
      "\n",
      "number of batches in test_loader:  1\n",
      "number of data points in one batch:  721\n",
      "shape of one data point:  torch.Size([10, 4])\n",
      "shape of one target:  torch.Size([1])\n",
      "total number of data points in test_loader:  721\n"
     ]
    }
   ],
   "source": [
    "# make tensor datasets and data loaders\n",
    "from torch.utils.data import TensorDataset, DataLoader\n",
    "\n",
    "train_dataset = TensorDataset(X_train, Y_train)\n",
    "test_dataset = TensorDataset(X_test, Y_test)\n",
    "\n",
    "batch_size = 128\n",
    "train_loader = DataLoader(train_dataset, batch_size=batch_size, shuffle=True, drop_last=True)\n",
    "test_loader = DataLoader(test_dataset, batch_size=len(test_dataset), shuffle=False)\n",
    "\n",
    "print(\"number of batches in train_loader: \", len(train_loader))\n",
    "print(\"number of data points in one batch: \", train_loader.batch_size)\n",
    "print(\"shape of one data point: \", train_loader.dataset.tensors[0][0].shape)\n",
    "print(\"shape of one target: \", train_loader.dataset.tensors[1][0].shape)\n",
    "print(\"total number of data points in train_loader: \", len(train_loader.dataset))\n",
    "print()\n",
    "print(\"number of batches in test_loader: \", len(test_loader))\n",
    "print(\"number of data points in one batch: \", test_loader.batch_size)\n",
    "print(\"shape of one data point: \", test_loader.dataset.tensors[0][0].shape)\n",
    "print(\"shape of one target: \", test_loader.dataset.tensors[1][0].shape)\n",
    "print(\"total number of data points in test_loader: \", len(test_loader.dataset))\n"
   ]
  },
  {
   "cell_type": "code",
   "execution_count": 152,
   "metadata": {},
   "outputs": [
    {
     "name": "stdout",
     "output_type": "stream",
     "text": [
      "torch.Size([128, 10, 4]) torch.Size([128, 1])\n",
      "torch.Size([128, 10, 4]) torch.Size([128, 1])\n",
      "torch.Size([128, 10, 4]) torch.Size([128, 1])\n",
      "torch.Size([128, 10, 4]) torch.Size([128, 1])\n",
      "torch.Size([128, 10, 4]) torch.Size([128, 1])\n",
      "torch.Size([128, 10, 4]) torch.Size([128, 1])\n",
      "torch.Size([128, 10, 4]) torch.Size([128, 1])\n",
      "torch.Size([128, 10, 4]) torch.Size([128, 1])\n",
      "torch.Size([128, 10, 4]) torch.Size([128, 1])\n",
      "torch.Size([128, 10, 4]) torch.Size([128, 1])\n",
      "torch.Size([128, 10, 4]) torch.Size([128, 1])\n",
      "torch.Size([128, 10, 4]) torch.Size([128, 1])\n",
      "torch.Size([128, 10, 4]) torch.Size([128, 1])\n",
      "torch.Size([128, 10, 4]) torch.Size([128, 1])\n",
      "torch.Size([128, 10, 4]) torch.Size([128, 1])\n",
      "torch.Size([128, 10, 4]) torch.Size([128, 1])\n",
      "torch.Size([128, 10, 4]) torch.Size([128, 1])\n",
      "torch.Size([128, 10, 4]) torch.Size([128, 1])\n",
      "torch.Size([128, 10, 4]) torch.Size([128, 1])\n",
      "torch.Size([128, 10, 4]) torch.Size([128, 1])\n",
      "torch.Size([128, 10, 4]) torch.Size([128, 1])\n"
     ]
    }
   ],
   "source": [
    "# how data is loaded for training \n",
    "for x, y in train_loader:\n",
    "    print(x.shape, y.shape)\n",
    "    # training here"
   ]
  },
  {
   "cell_type": "code",
   "execution_count": 153,
   "metadata": {},
   "outputs": [],
   "source": [
    "t = iter(train_loader)"
   ]
  },
  {
   "cell_type": "code",
   "execution_count": 154,
   "metadata": {},
   "outputs": [
    {
     "name": "stdout",
     "output_type": "stream",
     "text": [
      "torch.Size([128, 10, 4]) torch.Size([128, 1])\n",
      "torch.Size([128, 10, 4]) torch.Size([128, 1])\n",
      "torch.Size([128, 10, 4]) torch.Size([128, 1])\n",
      "torch.Size([128, 10, 4]) torch.Size([128, 1])\n",
      "torch.Size([128, 10, 4]) torch.Size([128, 1])\n",
      "torch.Size([128, 10, 4]) torch.Size([128, 1])\n",
      "torch.Size([128, 10, 4]) torch.Size([128, 1])\n",
      "torch.Size([128, 10, 4]) torch.Size([128, 1])\n",
      "torch.Size([128, 10, 4]) torch.Size([128, 1])\n",
      "torch.Size([128, 10, 4]) torch.Size([128, 1])\n",
      "torch.Size([128, 10, 4]) torch.Size([128, 1])\n",
      "torch.Size([128, 10, 4]) torch.Size([128, 1])\n",
      "torch.Size([128, 10, 4]) torch.Size([128, 1])\n",
      "torch.Size([128, 10, 4]) torch.Size([128, 1])\n",
      "torch.Size([128, 10, 4]) torch.Size([128, 1])\n",
      "torch.Size([128, 10, 4]) torch.Size([128, 1])\n",
      "torch.Size([128, 10, 4]) torch.Size([128, 1])\n",
      "torch.Size([128, 10, 4]) torch.Size([128, 1])\n",
      "torch.Size([128, 10, 4]) torch.Size([128, 1])\n",
      "torch.Size([128, 10, 4]) torch.Size([128, 1])\n",
      "torch.Size([128, 10, 4]) torch.Size([128, 1])\n"
     ]
    }
   ],
   "source": [
    "while True:\n",
    "    try:\n",
    "        x, _= next(t)\n",
    "        print(x.shape, y.shape)\n",
    "    except StopIteration:\n",
    "        break"
   ]
  }
 ],
 "metadata": {
  "kernelspec": {
   "display_name": "Python 3",
   "language": "python",
   "name": "python3"
  },
  "language_info": {
   "codemirror_mode": {
    "name": "ipython",
    "version": 3
   },
   "file_extension": ".py",
   "mimetype": "text/x-python",
   "name": "python",
   "nbconvert_exporter": "python",
   "pygments_lexer": "ipython3",
   "version": "3.11.4"
  }
 },
 "nbformat": 4,
 "nbformat_minor": 2
}
